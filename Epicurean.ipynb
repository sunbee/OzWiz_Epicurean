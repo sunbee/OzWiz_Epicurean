{
 "cells": [
  {
   "cell_type": "markdown",
   "metadata": {},
   "source": [
    "# Get Chef's Recommendations\n",
    "\n",
    "Build a Telegram bot using Spoonacular APIs to get recipes based on a list of ingredients. The user sends commands to the epicurean bot. The command `/joke` will give the joke of the day. The command `/recipe` with a list of ingredients with return a recipe-card with the best match found.\n",
    "\n",
    "## Steps\n",
    "\n",
    "The steps will involve:\n",
    "- Set up a Telegram bot with name and username as required.\n",
    "- Initialize the bot with access token and get vital statistics.\n",
    "- Instantiate the key classes for implementing our epicure's behavior.\n",
    "- Implement the `/start` callback to give help.\n",
    "\n",
    "And then:\n",
    "- Implement `/joke`.\n",
    "- Implement `/recipe` with list of ingredients.\n",
    "\n",
    "### Set up Telegram\n",
    "\n",
    "Set up a telegram bot using the Botfather. Call it **Epicurean** with username *epicurryin_bot*.\n",
    "\n",
    "This gave\n",
    "```\n",
    "Done! Congratulations on your new bot. You will find it at t.me/epicurryin_bot. You can now add a description, about section and profile picture for your bot, see /help for a list of commands. By the way, when you've finished creating your cool bot, ping our Bot Support if you want a better username for it. Just make sure the bot is fully operational before you do this.\n",
    "\n",
    "Use this token to access the HTTP API:\n",
    "XXXXXXXXXXXXXXXXXXXXXXXXXXXXXXXXXXXXXXXXXXXXXX\n",
    "\n",
    "Keep your token secure and store it safely, it can be used by anyone to control your bot.\n",
    "\n",
    "For a description of the Bot API, see this page: https://core.telegram.org/bots/api\n",
    "```"
   ]
  },
  {
   "cell_type": "markdown",
   "metadata": {},
   "source": [
    "### Initialize the bot with access token and get vital stats"
   ]
  },
  {
   "cell_type": "code",
   "execution_count": 1,
   "metadata": {},
   "outputs": [],
   "source": [
    "import telegram\n",
    "import config"
   ]
  },
  {
   "cell_type": "code",
   "execution_count": 2,
   "metadata": {},
   "outputs": [],
   "source": [
    "epicurean = telegram.Bot(token=config.token)"
   ]
  },
  {
   "cell_type": "code",
   "execution_count": 3,
   "metadata": {},
   "outputs": [
    {
     "name": "stdout",
     "output_type": "stream",
     "text": [
      "{'id': 1150777436, 'first_name': 'Epicurean', 'is_bot': True, 'username': 'epicurryin_bot', 'can_join_groups': True, 'can_read_all_group_messages': False, 'supports_inline_queries': False}\n"
     ]
    }
   ],
   "source": [
    "print(epicurean.get_me())"
   ]
  },
  {
   "cell_type": "markdown",
   "metadata": {},
   "source": [
    "### Initialize the key classes for implementing Epicurean\n",
    "\n",
    "We will need the following:\n",
    "- `Updater` for dispatch-routing callbacks\n",
    "- `CommandHandler` for implementing Epicurean's behavior in response to commands \n",
    "- `Filters` for sifting through the message queue (containing messages and commands)\n",
    "- `MessageHandler` for implementing Epicurean's response to text messages\n",
    "- Other\n",
    "\n",
    "These are from `telegram.ext`. Remember that dispatcher receives messages (including text messages and commands) from updater via queue. The dispatcher then sorts through the messages and passes them to the handler with the matching signature. We will implement a fall-back for unknown command."
   ]
  },
  {
   "cell_type": "code",
   "execution_count": 4,
   "metadata": {},
   "outputs": [],
   "source": [
    "from telegram.ext import Updater, CommandHandler, Filters, MessageHandler"
   ]
  },
  {
   "cell_type": "code",
   "execution_count": 5,
   "metadata": {},
   "outputs": [],
   "source": [
    "updater = Updater(token=config.token, use_context=True)\n",
    "dispatcher = updater.dispatcher"
   ]
  },
  {
   "cell_type": "markdown",
   "metadata": {},
   "source": [
    "### Give a helpful message at `/start`\n",
    "\n",
    "Implement the `start()` function, set as the `/start` command's callback and register the handler with dispatcher. Give the user a condensed user manual listing commands with usage samples. "
   ]
  },
  {
   "cell_type": "code",
   "execution_count": 6,
   "metadata": {},
   "outputs": [],
   "source": [
    "def start(update, context):\n",
    "    update.message.reply_text(\n",
    "        'I currently accept the following:\\n'\n",
    "        'Send /joke for epicurean joke-of-the-day. '\n",
    "        'Send /recipe with list of ingredients for recipe card.\\n\\n'\n",
    "        'For example:\\n'\n",
    "        '/joke\\n'\n",
    "        '/recipe cucumber curd\\n\\n'\n",
    "        'Capisce?'\n",
    "    )"
   ]
  },
  {
   "cell_type": "code",
   "execution_count": 7,
   "metadata": {},
   "outputs": [],
   "source": [
    "start_handler = CommandHandler('start', start)\n",
    "dispatcher.add_handler(start_handler)"
   ]
  },
  {
   "cell_type": "markdown",
   "metadata": {},
   "source": [
    "### Start the bot\n",
    "\n",
    "From this point on until `stop()`, the bot is running and will engage users."
   ]
  },
  {
   "cell_type": "code",
   "execution_count": 8,
   "metadata": {},
   "outputs": [
    {
     "data": {
      "text/plain": [
       "<queue.Queue at 0x15a3b43d5c0>"
      ]
     },
     "execution_count": 8,
     "metadata": {},
     "output_type": "execute_result"
    }
   ],
   "source": [
    "updater.start_polling()"
   ]
  },
  {
   "cell_type": "markdown",
   "metadata": {},
   "source": [
    "## Implement joke-of-the-day with `/joke`\n",
    "\n",
    "We will use the Spoonacular API. We have set up a free account with gmail and password. The API call for joke of the day is [here](https://api.spoonacular.com/food/jokes/random). Use the `requests` library to make a GET call."
   ]
  },
  {
   "cell_type": "markdown",
   "metadata": {},
   "source": [
    "### Implement wrapper around API end-point\n",
    "\n",
    "Wrap a function around the API end-point and test."
   ]
  },
  {
   "cell_type": "code",
   "execution_count": 9,
   "metadata": {},
   "outputs": [],
   "source": [
    "import requests\n",
    "import json"
   ]
  },
  {
   "cell_type": "code",
   "execution_count": 10,
   "metadata": {},
   "outputs": [],
   "source": [
    "def joke_du_jour():\n",
    "    \"\"\"\n",
    "    Get a random joke from the Spoonacular API.\n",
    "    \n",
    "    Input args: None\n",
    "    \n",
    "    Returned value: (String) A line of text\n",
    "    \n",
    "    Sample usage:\n",
    "    >>> joke_du_jour()\n",
    "    \"\"\"\n",
    "    url_joke = 'https://api.spoonacular.com/food/jokes/random'\n",
    "\n",
    "    joke = None\n",
    "    \n",
    "    packet = {\n",
    "        'apiKey': config.apiKey\n",
    "    }\n",
    "    \n",
    "    r = requests.get(url_joke, params=packet)\n",
    "    print(\"Status: {} & Reason: {}\".format(r.status_code, r.reason))\n",
    "    \n",
    "    if r.status_code == 200:\n",
    "        joke = json.loads(r.text)[\"text\"]\n",
    "        \n",
    "    return joke"
   ]
  },
  {
   "cell_type": "code",
   "execution_count": 11,
   "metadata": {},
   "outputs": [
    {
     "name": "stdout",
     "output_type": "stream",
     "text": [
      "Status: 200 & Reason: OK\n",
      "I love the way you move...like butter on a bald monkey.\n"
     ]
    }
   ],
   "source": [
    "just_kidding = joke_du_jour()\n",
    "print(just_kidding)"
   ]
  },
  {
   "cell_type": "markdown",
   "metadata": {},
   "source": [
    "### Tell what's funny\n",
    "\n",
    "Add call-back to the handler and register with dispatcher. You know the drill."
   ]
  },
  {
   "cell_type": "code",
   "execution_count": 12,
   "metadata": {},
   "outputs": [],
   "source": [
    "def joke(update, context):\n",
    "    punch_line = joke_du_jour()\n",
    "    context.bot.send_message(chat_id=update.effective_chat.id, text=punch_line)"
   ]
  },
  {
   "cell_type": "code",
   "execution_count": 13,
   "metadata": {},
   "outputs": [],
   "source": [
    "joke_handler = CommandHandler('joke', joke)\n",
    "dispatcher.add_handler(joke_handler)"
   ]
  },
  {
   "cell_type": "markdown",
   "metadata": {},
   "source": [
    "## Whip up a recipe given ingredients\n",
    "\n",
    "We will do this in the following steps, with knowledge of the [Spoonacular API](https://spoonacular.com/food-api/docs). Use th following end-points to build the recipe step-step:\n",
    "1. Search recipe by ingredients [here](https://spoonacular.com/food-api/docs#Search-Recipes-by-Ingredients)\n",
    "2. Get full recipe information with ID [here](https://spoonacular.com/food-api/docs#Get-Recipe-Information)\n",
    "3. Generate recipe card [here](https://spoonacular.com/food-api/docs#Create-Recipe-Card)\n",
    "\n",
    "Here, each API end-point furnishes information for the next step. This approach is driven by the architecture or the Spoonacular API.\n",
    "\n",
    "### Search for a recipe by available ingredients\n",
    "\n",
    "We will make a GET request to the API end-point, parse out information and return a tuple with several items."
   ]
  },
  {
   "cell_type": "code",
   "execution_count": 14,
   "metadata": {},
   "outputs": [],
   "source": [
    "def searchRecipeByIngredients(ingredients_list):\n",
    "    \"\"\"\n",
    "    Fetch the ID and key information from the first hit.\n",
    "    Input args:\n",
    "    - ingredients_list: (list of strings) a list of ingredients to search by \n",
    "    \n",
    "    Returned value:\n",
    "    - ID: (integer) the numeric ID of the hit, if found (None otherwise)\n",
    "    - Title: (string) the title of the recipe, if found (None otherwise)\n",
    "    - Img: (string) the URL of an image of the recipe, if found (None otherwise)\n",
    "    - Raw: (string) the plain-JSON response of API end-point, if 200 OK (None otherwise)\n",
    "    \n",
    "    Sample usage:\n",
    "    >>> Id, Title, Img, Raw = searchRecipeByIngredients(['spinach', 'tomato', 'chillies', 'cottage cheese'])\n",
    "    \"\"\"\n",
    "    url_search = \"https://api.spoonacular.com/recipes/findByIngredients\"\n",
    "    \n",
    "    recipe_raw = None\n",
    "    recipe_ID = None\n",
    "    recipe_title = None\n",
    "    recipe_image = None\n",
    "    \n",
    "    packet = {\n",
    "        'apiKey': config.apiKey,\n",
    "        'ingredients': ingredients_list,\n",
    "        'number': 1\n",
    "    }\n",
    "    r = requests.get(url_search, params=packet)\n",
    "    print(\"Status: {}, Reason: {}\".format(r.status_code, r.reason))\n",
    "    \n",
    "    if r.status_code == 200:\n",
    "        recipe_raw = r.text\n",
    "        recipe_json = json.loads(r.text)\n",
    "        recipe_ID = recipe_json[0][\"id\"]\n",
    "        recipe_title = recipe_json[0][\"title\"]\n",
    "        recipe_image = recipe_json[0][\"image\"]\n",
    "        \n",
    "        \n",
    "    return (recipe_ID, recipe_title, recipe_image, recipe_raw)"
   ]
  },
  {
   "cell_type": "code",
   "execution_count": 15,
   "metadata": {},
   "outputs": [
    {
     "name": "stdout",
     "output_type": "stream",
     "text": [
      "Status: 200, Reason: OK\n"
     ]
    }
   ],
   "source": [
    "Id, Title, Img, Raw = searchRecipeByIngredients(['paneer', 'palak'])"
   ]
  },
  {
   "cell_type": "code",
   "execution_count": 16,
   "metadata": {
    "scrolled": true
   },
   "outputs": [
    {
     "name": "stdout",
     "output_type": "stream",
     "text": [
      "Got 652592 named Multigrain Tandoori Pizza With Paneer Tikka.\n",
      "Download here: https://spoonacular.com/recipeImages/652592-312x231.jpg\n"
     ]
    }
   ],
   "source": [
    "print(\"Got {} named {}.\".format(Id, Title))\n",
    "print(\"Download here: {}\".format(Img))"
   ]
  },
  {
   "cell_type": "markdown",
   "metadata": {},
   "source": [
    "*So far we have located a recipe that uses the ingredients we have furnished. The result only has information like ID and title. Next, we will use the ID to get more details.*\n",
    "\n",
    "### Get detailed information about a recipe\n",
    "\n",
    "We will use the recipe ID to get more information, parse out items to stash in a tuple and return it. "
   ]
  },
  {
   "cell_type": "code",
   "execution_count": 17,
   "metadata": {},
   "outputs": [],
   "source": [
    "def getRecipeInformation(recipe_id):\n",
    "    \"\"\"\n",
    "    Input args:\n",
    "    - recipe_id: (integer) the numeric ID of the recipe in the Spoonacular database.\n",
    "    \n",
    "    Returned value(s):\n",
    "    - title: (string) the name of the recipe\n",
    "    - image: (string) a photo of the dish\n",
    "    - ingredients: (list of strings) a list of ingredients needed\n",
    "    - instructions: (string) the recipe instructions\n",
    "    - ready_in_minutes: (integer) time to cook in minutes\n",
    "    - servings: (integer) the number of servings \n",
    "    - info: (string) raw information \n",
    "    \n",
    "    Sample usage:\n",
    "    >>> title, image_url, ingredients, instructions, cook_time, servings, info = getRecipeInformation(652592)\n",
    "    \"\"\"\n",
    "    url_info = f\"https://api.spoonacular.com/recipes/{recipe_id}/information\"\n",
    "    \n",
    "    title = None\n",
    "    image = None\n",
    "    ingredients = []\n",
    "    instructions = None\n",
    "    ready_in_minutes = 0\n",
    "    servings = 0\n",
    "    info = None\n",
    "    \n",
    "    packet = {\n",
    "        'apiKey': config.apiKey,\n",
    "    }\n",
    "    r = requests.get(url_info, params=packet)\n",
    "    print(\"Status: {}, Reason: {}\".format(r.status_code, r.reason))\n",
    "    \n",
    "    if r.status_code == 200:\n",
    "        info_json = json.loads(r.text)\n",
    "        title = info_json[\"title\"]\n",
    "        image = info_json[\"image\"]\n",
    "        ingredients = [x[\"name\"] for x in info_json[\"extendedIngredients\"]]\n",
    "        instructions = info_json[\"instructions\"]\n",
    "        ready_in_minutes = info_json[\"readyInMinutes\"]\n",
    "        servings = info_json[\"servings\"]\n",
    "        info = r.text\n",
    "        \n",
    "    return (title, image, ingredients, instructions, ready_in_minutes, servings, info)"
   ]
  },
  {
   "cell_type": "code",
   "execution_count": 18,
   "metadata": {},
   "outputs": [
    {
     "name": "stdout",
     "output_type": "stream",
     "text": [
      "Status: 200, Reason: OK\n"
     ]
    }
   ],
   "source": [
    "title, image_url, ingredients, instructions, cook_time, servings, info = getRecipeInformation(652592)"
   ]
  },
  {
   "cell_type": "markdown",
   "metadata": {},
   "source": [
    "Unpack the information and print it. The ID, title, image, list of ingredients, set of instructions and cooking time for a number of services are all required in order to generate a recipe card. We will use the parcels of information that the function returns in this test and examine it."
   ]
  },
  {
   "cell_type": "code",
   "execution_count": 19,
   "metadata": {},
   "outputs": [
    {
     "name": "stdout",
     "output_type": "stream",
     "text": [
      "id: 652592\n",
      "title: Multigrain Tandoori Pizza With Paneer Tikka\n",
      "image URL: https://spoonacular.com/recipeImages/652592-556x370.jpg\n",
      "ingredients: ['garam masala', 'paneer', 'parsley', 'pizza dough', 'salt']\n",
      "instructions: <ol><li>Heat olive oil in a pan and add ginger garlic, salt, paprika with a dash of garam masala, saute for few seconds.</li><li>In a bowl, whip the yogurt and add the seasoning prepared above to the yogurt.</li><li>If you want to make the Tadoori Sauce Spicy, you can add some freshly chopped green chilly & can also add some fresh cilantro/parsley to add some flavor. Mix well & our Tandoor sauce is ready.</li><li>Cut Paneer and all vegetables into cube chunks approx 1inch X 1 inch.</li><li>Divide Tandoori sauce in to two bowls.</li><li>Now add Paneer and vegetable into one bowl.</li><li>Mix well and add bell pepper, tomato, onion and Paneer chunks.</li><li>Cover the bowl and keep in refrigerator for at least 45-60 minutes.</li><li>Take the 2nd bowl of tandoori sauce & generously spread it over the pizza crust.</li><li>Leave aside for 15 mins as we grill our Paneer Tikka in the meantime.</li><li>Take a wooden skewer and put veggies in a sequence - bell peppers, onion, tomato, paneer.</li><li>Repeat the process to make more skewers.</li><li>Heat olive a non stick pan,  slowly lay all the skewers in the pan and cook at medium heat.</li><li>Keep turning skewers around after every minute to ensure all 4 sides are cooked for atleast 3 to 4 mins but do not burn.</li><li>When the skewers start turning light brown & start developing smoky flavor, turn the heat down & remove them into a plate. It's not a bad idea to digg into your paneer tikka at this stage ;-)</li><li>If you can resist, once the tikka cools down a bit, remove grilled chunks of veggies & paneer from skewers and evenly spread them over the the waiting pizza base.</li><li>Now our pizza is ready to go into the oven.</li><li>Sprinkle some olive oil on the top, followed by some freshly ground mozzarella cheese.</li><li>Bake for 20-25 minutes at 350 F.</li><li>A piping hot pizza straight from the oven is Simply Sensational...!</li><li>Sprinkle some chat masala on top to add some Tang.</li></ol>\n",
      "ready_in_minutes: 45\n",
      "servings: 2\n"
     ]
    }
   ],
   "source": [
    "print(\"id: {}\".format(652592))\n",
    "print(\"title: {}\".format(title))\n",
    "print(\"image URL: {}\".format(image_url))\n",
    "print(\"ingredients: {}\".format(ingredients))\n",
    "print(\"instructions: {}\".format(instructions))\n",
    "print(\"ready_in_minutes: {}\".format(cook_time))\n",
    "print(\"servings: {}\".format(servings))"
   ]
  },
  {
   "cell_type": "markdown",
   "metadata": {},
   "source": [
    "We have all the information that is required for a recipe card. However, further processing is required to structue this information to make a valid request. Get recipe information with ID 541025."
   ]
  },
  {
   "cell_type": "code",
   "execution_count": 20,
   "metadata": {},
   "outputs": [
    {
     "name": "stdout",
     "output_type": "stream",
     "text": [
      "Status: 200, Reason: OK\n"
     ]
    }
   ],
   "source": [
    "title_541025, image_url_541025, ingredients_541025, instructions_541025, cook_time_541025, servings_541025, info_541025 = getRecipeInformation(541025)"
   ]
  },
  {
   "cell_type": "code",
   "execution_count": 21,
   "metadata": {
    "scrolled": false
   },
   "outputs": [
    {
     "name": "stdout",
     "output_type": "stream",
     "text": [
      "id: 541025\n",
      "title: Karaage Bento\n",
      "image URL: https://spoonacular.com/recipeImages/541025-556x370.jpg\n",
      "ingredients: ['broccoli', 'spinach', 'tomatoes', 'karaage', 'onigiri', 'tamagoyaki']\n",
      "instructions: Take leftover Karaage out of fridge and bake for a few minutes in a toaster oven until it's warm.Meanwhile make Onigiri and put it in the bento box.Saute spinach and corn and pack in the bento box..Place Karaage in the bento box.Put Tamagoyaki in the box.Wash tomatoes and pat dry. Place nicely in the bento box along with thawed broccoli.Cool down completely before closing the bento box.\n",
      "ready_in_minutes: 20\n",
      "servings: 1\n"
     ]
    }
   ],
   "source": [
    "print(\"id: {}\".format(541025))\n",
    "print(\"title: {}\".format(title_541025))\n",
    "print(\"image URL: {}\".format(image_url_541025))\n",
    "print(\"ingredients: {}\".format(ingredients_541025))\n",
    "print(\"instructions: {}\".format(instructions_541025))\n",
    "print(\"ready_in_minutes: {}\".format(cook_time_541025))\n",
    "print(\"servings: {}\".format(servings_541025))"
   ]
  },
  {
   "cell_type": "markdown",
   "metadata": {},
   "source": [
    "The API docs tell us to provide the ingredients and instructions as words separated using the symbol `\\n` (i.e. a back-slash followed by the lower-case letter 'n') as spacer. Format the data accordingingly. Use `join()` to create a string in the requested format from the list of ingredients like so."
   ]
  },
  {
   "cell_type": "code",
   "execution_count": 22,
   "metadata": {},
   "outputs": [
    {
     "name": "stdout",
     "output_type": "stream",
     "text": [
      "ID 652592: garam masala\\npaneer\\nparsley\\npizza dough\\nsalt\n",
      "ID 541025: broccoli\\nspinach\\ntomatoes\\nkaraage\\nonigiri\\ntamagoyaki\n"
     ]
    }
   ],
   "source": [
    "print(\"ID {}: {}\".format(652592, \"\\\\n\".join(ingredients)))\n",
    "print(\"ID {}: {}\".format(541025, \"\\\\n\".join(ingredients_541025)))"
   ]
  },
  {
   "cell_type": "markdown",
   "metadata": {},
   "source": [
    "Note that there is free-text instructions and a slot for analyzed instructions. The free-text instructions may present special characters and other problems. Therefore, we will use analyzed instructions which are clean. Navigate the json with the dictionary keys from `keys()` command and the `get()` command get the analyzed instructions safely. "
   ]
  },
  {
   "cell_type": "code",
   "execution_count": 23,
   "metadata": {},
   "outputs": [
    {
     "name": "stdout",
     "output_type": "stream",
     "text": [
      "ID 652592:\n",
      " Heat olive oil in a pan and add ginger garlic, salt, paprika with a dash of garam masala, saute for few seconds.In a bowl, whip the yogurt and add the seasoning prepared above to the yogurt.If you want to make the Tadoori Sauce Spicy, you can add some freshly chopped green chilly & can also add some fresh cilantro/parsley to add some flavor.\n",
      "Mix well & our Tandoor sauce is ready.\n",
      "Cut Paneer and all vegetables into cube chunks approx 1inch X 1 inch.Divide Tandoori sauce in to two bowls.Now add Paneer and vegetable into one bowl.\n",
      "Mix well and add bell pepper, tomato, onion and Paneer chunks.Cover the bowl and keep in refrigerator for at least 45-60 minutes.Take the 2nd bowl of tandoori sauce & generously spread it over the pizza crust.Leave aside for 15 mins as we grill our Paneer Tikka in the meantime.Take a wooden skewer and put veggies in a sequence - bell peppers, onion, tomato, paneer.Repeat the process to make more skewers.\n",
      "Heat olive a non stick pan,  slowly lay all the skewers in the pan and cook at medium heat.Keep turning skewers around after every minute to ensure all 4 sides are cooked for atleast 3 to 4 mins but do not burn.When the skewers start turning light brown & start developing smoky flavor, turn the heat down & remove them into a plate. It's not a bad idea to digg into your paneer tikka at this stage ;-)If you can resist, once the tikka cools down a bit, remove grilled chunks of veggies & paneer from skewers and evenly spread them over the the waiting pizza base.Now our pizza is ready to go into the oven.Sprinkle some olive oil on the top, followed by some freshly ground mozzarella cheese.\n",
      "Bake for 20-25 minutes at 350 F.A piping hot pizza straight from the oven is Simply Sensational...!Sprinkle some chat masala on top to add some Tang.\n"
     ]
    }
   ],
   "source": [
    "info\n",
    "info_json = json.loads(info)\n",
    "info_keys = info_json.keys()\n",
    "analyzed_instructions = info_json.get(\"analyzedInstructions\", None)\n",
    "analyzed_steps = [x[\"step\"] for x in analyzed_instructions[0][\"steps\"]]\n",
    "print(\"ID {}:\\n {}\".format(652592, \"\\n\".join(analyzed_steps)))"
   ]
  },
  {
   "cell_type": "markdown",
   "metadata": {},
   "source": [
    "Write a function to wrap around the processing steps. There is a fair amount of work involved. By writing a function we will ensure consistent results across a variety of use-cases."
   ]
  },
  {
   "cell_type": "code",
   "execution_count": 24,
   "metadata": {},
   "outputs": [],
   "source": [
    "def presentRecipeInstructions(raw_info):\n",
    "    \"\"\"\n",
    "    Presents the instructions for a recipe in the format required\n",
    "    by the API end-point for recipe card with recipe details. The \n",
    "    individual instructions are separated by the '\\n' symbol, i.e.\n",
    "    a back-slash followed by the letter 'n'.\n",
    "    Input args:\n",
    "    - raw_info: (string) raw text response from REST API end-point\n",
    "    \n",
    "    Return value: (string) a string with instructions in the specified format.\n",
    "    \n",
    "    Sample usage:\n",
    "    >>> title, image_url, ingredients, instructions, cook_time, servings, infor = getRecipeInformation(652592)\n",
    "    >>> presentRecipeInstructions(infor)\n",
    "    \n",
    "    \"\"\"  \n",
    "\n",
    "    instruction_set = \"Has no instructions.\"\n",
    "    analyzed_instructions = json.loads(raw_info).get(\"analyzedInstructions\", None)\n",
    "    if len(analyzed_instructions) != 0:\n",
    "        analyzed_steps = [x[\"step\"] for x in analyzed_instructions[0][\"steps\"]]\n",
    "        instruction_set =  \"\\n\".join(analyzed_steps) \n",
    "        \n",
    "    return instruction_set"
   ]
  },
  {
   "cell_type": "code",
   "execution_count": 25,
   "metadata": {},
   "outputs": [
    {
     "data": {
      "text/plain": [
       "\"Take leftover Karaage out of fridge and bake for a few minutes in a toaster oven until it's warm.Meanwhile make Onigiri and put it in the bento box.\\nSaute spinach and corn and pack in the bento box..\\nPlace Karaage in the bento box.Put Tamagoyaki in the box.Wash tomatoes and pat dry.\\nPlace nicely in the bento box along with thawed broccoli.Cool down completely before closing the bento box.\""
      ]
     },
     "execution_count": 25,
     "metadata": {},
     "output_type": "execute_result"
    }
   ],
   "source": [
    "presentRecipeInstructions(info_541025)"
   ]
  },
  {
   "cell_type": "code",
   "execution_count": 26,
   "metadata": {},
   "outputs": [],
   "source": [
    "url_card = \"https://api.spoonacular.com/recipes/visualizeRecipe?apiKey=\" + config.apiKey\n",
    "\n",
    "body = {\n",
    "    \"title\": \"Simple\",\n",
    "    \"ingredients\": \"\\n\".join(ingredients_541025),\n",
    "    \"instructions\": presentRecipeInstructions(info_541025),\n",
    "    \"readyInMinutes\": 45,\n",
    "    \"servings\": 2,\n",
    "    \"mask\": \"diamondMask\",\n",
    "    \"backgroundImage\": \"none\"   \n",
    "}\n",
    "\n",
    "headers = {\n",
    "    \"Content-Type\": \"multipart/form-data\"\n",
    "}"
   ]
  },
  {
   "cell_type": "code",
   "execution_count": 27,
   "metadata": {},
   "outputs": [
    {
     "name": "stdout",
     "output_type": "stream",
     "text": [
      "Status: 200; Reason: OK\n"
     ]
    }
   ],
   "source": [
    "r = requests.post(url=url_card, data=body, files={'image':open(\"Sample_Recipe.jpg\", 'rb')})\n",
    "print(\"Status: {}; Reason: {}\".format(r.status_code, r.reason))"
   ]
  },
  {
   "cell_type": "code",
   "execution_count": 28,
   "metadata": {},
   "outputs": [
    {
     "name": "stdout",
     "output_type": "stream",
     "text": [
      "http://webknox.com/recipeCardImages/recipeCard-1591946442985.png\n"
     ]
    }
   ],
   "source": [
    "print(json.loads(r.text).get(\"url\", \"Hungry hippo!\"))"
   ]
  },
  {
   "cell_type": "markdown",
   "metadata": {},
   "source": [
    "Follow this link to an early [sample recipe card](http://webknox.com/recipeCardImages/recipeCard-1591900730794.png) generated when testing this API end-point. Take a look at [this sample card](http://webknox.com/recipeCardImages/recipeCard-1591924638812.png) with refinements. Or [this one](http://webknox.com/recipeCardImages/recipeCard-1591935798520.png) where the recipe has no instructions.\n",
    "\n",
    "Our best result so far is [palak panner meets pizza](http://webknox.com/recipeCardImages/recipeCard-1591936354848.png)!"
   ]
  },
  {
   "cell_type": "markdown",
   "metadata": {},
   "source": [
    "We now have all the pieces to assemble. We will write a wrapper function to take a list of ingredients and return a beautiful recipe card. Let's go!\n",
    "\n",
    "We need a couple of helper functions to procure an image of the recipe and use it. We will generate a random label for the image. We will download the image using `requests` and name it with the random label. "
   ]
  },
  {
   "cell_type": "code",
   "execution_count": 29,
   "metadata": {},
   "outputs": [],
   "source": [
    "import random\n",
    "import string\n",
    "\n",
    "def nameMe(width = 8):\n",
    "    letters_and_numbers = string.ascii_letters + string.digits\n",
    "    return ''.join(random.choice(letters_and_numbers) for i in range(width))"
   ]
  },
  {
   "cell_type": "code",
   "execution_count": 30,
   "metadata": {},
   "outputs": [
    {
     "data": {
      "text/plain": [
       "'t3UpO6pG.jpg'"
      ]
     },
     "execution_count": 30,
     "metadata": {},
     "output_type": "execute_result"
    }
   ],
   "source": [
    "nameMe() + \".jpg\""
   ]
  },
  {
   "cell_type": "code",
   "execution_count": 31,
   "metadata": {},
   "outputs": [],
   "source": [
    "def saveMe(image_url):\n",
    "    r = requests.get(image_url)\n",
    "    \n",
    "    nomme_de_plume = nameMe() + \".jpg\"\n",
    "    with open(nomme_de_plume, 'wb') as f:\n",
    "        f.write(r.content)\n",
    "        \n",
    "    return nomme_de_plume"
   ]
  },
  {
   "cell_type": "code",
   "execution_count": 32,
   "metadata": {},
   "outputs": [
    {
     "data": {
      "text/plain": [
       "'l6dIt8tD.jpg'"
      ]
     },
     "execution_count": 32,
     "metadata": {},
     "output_type": "execute_result"
    }
   ],
   "source": [
    "saveMe(\"https://spoonacular.com/recipeImages/652592-556x370.jpg\")"
   ]
  },
  {
   "cell_type": "code",
   "execution_count": 33,
   "metadata": {},
   "outputs": [],
   "source": [
    "def getRecipeCard(ingredients_list):\n",
    "    \"\"\"\n",
    "    Gets a recipe card made on the basis of ingredients furnished.\n",
    "    \n",
    "    Input args:\n",
    "    - ingredients_list: (list of strings) a list of ingredients with which to find a recipe.\n",
    "    \n",
    "    Return value(s):\n",
    "    - card_url: (string) a url for the recipe card\n",
    "    - num_id: (int) the numeric ID of the recipe in Spoonacular's database\n",
    "    - title: (string) the name of the recipe\n",
    "    - raw_text: (string) the detailed recipe in raw text\n",
    "    \n",
    "    Sample usage:\n",
    "    >>> card_url, num_id, title, raw_text = getRecipeCard(['spinach', 'tomato', 'chillies', 'cottage cheese'])\n",
    "    \"\"\"\n",
    "    card_url = None\n",
    "    num_id = None\n",
    "    title = None\n",
    "    raw_text = None\n",
    "    \n",
    "    num_id, title, img, raw_text = searchRecipeByIngredients(ingredients_list)\n",
    "    title_, img_url, ingredients, instructions, cook_time, servings, info = getRecipeInformation(num_id)\n",
    "    \n",
    "    image_name = saveMe(img_url)\n",
    "    \n",
    "    url_card = \"https://api.spoonacular.com/recipes/visualizeRecipe?apiKey=\" + config.apiKey\n",
    "    body = {\n",
    "        \"title\": title,\n",
    "        \"ingredients\": \"\\n\".join(ingredients),\n",
    "        \"instructions\": presentRecipeInstructions(info),\n",
    "        \"readyInMinutes\": cook_time,\n",
    "        \"servings\": servings,\n",
    "        \"mask\": \"diamondMask\",\n",
    "        \"backgroundImage\": \"none\"   \n",
    "    }\n",
    "    headers = {\n",
    "        \"Content-Type\": \"multipart/form-data\"\n",
    "    }\n",
    "    \n",
    "    r = requests.post(url=url_card, data=body, files={'image':open(image_name, 'rb')})\n",
    "    print(\"Status: {}; Reason: {}\".format(r.status_code, r.reason))\n",
    "    \n",
    "    card_url = json.loads(r.text).get(\"url\", \"https://feed.hamster.com\")\n",
    "\n",
    "    return card_url, num_id, title, info"
   ]
  },
  {
   "cell_type": "code",
   "execution_count": 34,
   "metadata": {},
   "outputs": [
    {
     "name": "stdout",
     "output_type": "stream",
     "text": [
      "Status: 200, Reason: OK\n",
      "Status: 200, Reason: OK\n",
      "Status: 200; Reason: OK\n"
     ]
    }
   ],
   "source": [
    "card_url, num_id, title, raw_text = getRecipeCard(['spinach', 'tomato', 'chillies', 'cottage cheese'])"
   ]
  },
  {
   "cell_type": "code",
   "execution_count": 35,
   "metadata": {},
   "outputs": [
    {
     "data": {
      "text/plain": [
       "'http://webknox.com/recipeCardImages/recipeCard-1591946445771.png'"
      ]
     },
     "execution_count": 35,
     "metadata": {},
     "output_type": "execute_result"
    }
   ],
   "source": [
    "card_url"
   ]
  },
  {
   "cell_type": "code",
   "execution_count": 36,
   "metadata": {},
   "outputs": [
    {
     "name": "stdout",
     "output_type": "stream",
     "text": [
      "Status: 200, Reason: OK\n",
      "Status: 200, Reason: OK\n",
      "Status: 200; Reason: OK\n"
     ]
    }
   ],
   "source": [
    "pp_card_url, pp_num_id, pp_title, pp_raw_text = getRecipeCard(['paneer', 'palak'])"
   ]
  },
  {
   "cell_type": "code",
   "execution_count": 37,
   "metadata": {},
   "outputs": [
    {
     "data": {
      "text/plain": [
       "'http://webknox.com/recipeCardImages/recipeCard-1591946448085.png'"
      ]
     },
     "execution_count": 37,
     "metadata": {},
     "output_type": "execute_result"
    }
   ],
   "source": [
    "pp_card_url"
   ]
  },
  {
   "cell_type": "markdown",
   "metadata": {},
   "source": [
    "### Conclusion\n",
    "\n",
    "*So far, we have used the Spoonacular API to creat a recipe card with a tasteful picture of the dish accompanied by title, ingredients, instructions. The result is a URL to the recipe card. Next, we will attach the code to our Happy-Curry'in bot.*"
   ]
  },
  {
   "cell_type": "markdown",
   "metadata": {},
   "source": [
    "## Happy Curry'in with Epicurean\n",
    "\n",
    "Write a `recipe()` function that implements the call-back routine. Use `context.args` as show in [Your first Bot](https://github.com/python-telegram-bot/python-telegram-bot/wiki/Extensions-–-Your-first-Bot). Refer to the [code snippet](https://github.com/python-telegram-bot/python-telegram-bot/wiki/Code-snippets#post-a-photo-from-a-url) for posting a photo from URL. Lastly, we will handle any unknow commands gracefully."
   ]
  },
  {
   "cell_type": "code",
   "execution_count": 38,
   "metadata": {},
   "outputs": [],
   "source": [
    "def recipe(update, context):\n",
    "    image_url = \"http://webknox.com/recipeCardImages/recipeCard-1591936354848.png\"\n",
    "    pp_card_url, pp_num_id, pp_title, pp_raw_text = getRecipeCard(context.args)\n",
    "    if pp_card_url:\n",
    "        image_url = pp_card_url\n",
    "    context.bot.send_photo(chat_id=update.effective_chat.id, photo=image_url)"
   ]
  },
  {
   "cell_type": "code",
   "execution_count": 39,
   "metadata": {},
   "outputs": [],
   "source": [
    "recipe_handler = CommandHandler('recipe', recipe)\n",
    "dispatcher.add_handler(recipe_handler)"
   ]
  },
  {
   "cell_type": "code",
   "execution_count": 40,
   "metadata": {},
   "outputs": [],
   "source": [
    "def unknown(update, context):\n",
    "    context.bot.send_message(chat_id=update.effective_chat.id, text=\"No soup for you!\")"
   ]
  },
  {
   "cell_type": "code",
   "execution_count": 41,
   "metadata": {},
   "outputs": [],
   "source": [
    "unknown_handler = MessageHandler(Filters.command, unknown)\n",
    "dispatcher.add_handler(unknown_handler)"
   ]
  },
  {
   "cell_type": "code",
   "execution_count": 42,
   "metadata": {},
   "outputs": [],
   "source": [
    "updater.stop()"
   ]
  },
  {
   "cell_type": "markdown",
   "metadata": {},
   "source": [
    "## TO-DO LIST\n",
    "\n",
    "1. Add logging\n",
    "2. Handle unknown commands\n",
    "3. Make it conversational"
   ]
  },
  {
   "cell_type": "code",
   "execution_count": null,
   "metadata": {},
   "outputs": [],
   "source": []
  }
 ],
 "metadata": {
  "kernelspec": {
   "display_name": "Python 3",
   "language": "python",
   "name": "python3"
  },
  "language_info": {
   "codemirror_mode": {
    "name": "ipython",
    "version": 3
   },
   "file_extension": ".py",
   "mimetype": "text/x-python",
   "name": "python",
   "nbconvert_exporter": "python",
   "pygments_lexer": "ipython3",
   "version": "3.7.2"
  }
 },
 "nbformat": 4,
 "nbformat_minor": 2
}
